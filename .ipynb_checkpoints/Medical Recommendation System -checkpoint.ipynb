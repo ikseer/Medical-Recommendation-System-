{
 "cells": [
  {
   "cell_type": "code",
   "execution_count": 3,
   "id": "0cd6368d",
   "metadata": {},
   "outputs": [
    {
     "name": "stderr",
     "output_type": "stream",
     "text": [
      "C:\\Users\\CPU\\anaconda3\\lib\\site-packages\\numpy\\_distributor_init.py:30: UserWarning: loaded more than 1 DLL from .libs:\n",
      "C:\\Users\\CPU\\anaconda3\\lib\\site-packages\\numpy\\.libs\\libopenblas.4SP5SUA7CBGXUEOC35YP2ASOICYYEQZZ.gfortran-win_amd64.dll\n",
      "C:\\Users\\CPU\\anaconda3\\lib\\site-packages\\numpy\\.libs\\libopenblas.XWYDX2IKJW2NMTWSFYNGFUWKQU3LYTCZ.gfortran-win_amd64.dll\n",
      "  warnings.warn(\"loaded more than 1 DLL from .libs:\"\n"
     ]
    }
   ],
   "source": [
    "# import libraries \n",
    "import pandas as pd "
   ]
  },
  {
   "cell_type": "code",
   "execution_count": 4,
   "id": "a171ee30",
   "metadata": {},
   "outputs": [],
   "source": [
    "df = pd.read_csv('Datasets/Training.csv')"
   ]
  },
  {
   "cell_type": "code",
   "execution_count": 5,
   "id": "3817063e",
   "metadata": {},
   "outputs": [
    {
     "data": {
      "text/html": [
       "<div>\n",
       "<style scoped>\n",
       "    .dataframe tbody tr th:only-of-type {\n",
       "        vertical-align: middle;\n",
       "    }\n",
       "\n",
       "    .dataframe tbody tr th {\n",
       "        vertical-align: top;\n",
       "    }\n",
       "\n",
       "    .dataframe thead th {\n",
       "        text-align: right;\n",
       "    }\n",
       "</style>\n",
       "<table border=\"1\" class=\"dataframe\">\n",
       "  <thead>\n",
       "    <tr style=\"text-align: right;\">\n",
       "      <th></th>\n",
       "      <th>itching</th>\n",
       "      <th>skin_rash</th>\n",
       "      <th>nodal_skin_eruptions</th>\n",
       "      <th>continuous_sneezing</th>\n",
       "      <th>shivering</th>\n",
       "      <th>chills</th>\n",
       "      <th>joint_pain</th>\n",
       "      <th>stomach_pain</th>\n",
       "      <th>acidity</th>\n",
       "      <th>ulcers_on_tongue</th>\n",
       "      <th>...</th>\n",
       "      <th>blackheads</th>\n",
       "      <th>scurring</th>\n",
       "      <th>skin_peeling</th>\n",
       "      <th>silver_like_dusting</th>\n",
       "      <th>small_dents_in_nails</th>\n",
       "      <th>inflammatory_nails</th>\n",
       "      <th>blister</th>\n",
       "      <th>red_sore_around_nose</th>\n",
       "      <th>yellow_crust_ooze</th>\n",
       "      <th>prognosis</th>\n",
       "    </tr>\n",
       "  </thead>\n",
       "  <tbody>\n",
       "    <tr>\n",
       "      <th>0</th>\n",
       "      <td>1</td>\n",
       "      <td>1</td>\n",
       "      <td>1</td>\n",
       "      <td>0</td>\n",
       "      <td>0</td>\n",
       "      <td>0</td>\n",
       "      <td>0</td>\n",
       "      <td>0</td>\n",
       "      <td>0</td>\n",
       "      <td>0</td>\n",
       "      <td>...</td>\n",
       "      <td>0</td>\n",
       "      <td>0</td>\n",
       "      <td>0</td>\n",
       "      <td>0</td>\n",
       "      <td>0</td>\n",
       "      <td>0</td>\n",
       "      <td>0</td>\n",
       "      <td>0</td>\n",
       "      <td>0</td>\n",
       "      <td>Fungal infection</td>\n",
       "    </tr>\n",
       "    <tr>\n",
       "      <th>1</th>\n",
       "      <td>0</td>\n",
       "      <td>1</td>\n",
       "      <td>1</td>\n",
       "      <td>0</td>\n",
       "      <td>0</td>\n",
       "      <td>0</td>\n",
       "      <td>0</td>\n",
       "      <td>0</td>\n",
       "      <td>0</td>\n",
       "      <td>0</td>\n",
       "      <td>...</td>\n",
       "      <td>0</td>\n",
       "      <td>0</td>\n",
       "      <td>0</td>\n",
       "      <td>0</td>\n",
       "      <td>0</td>\n",
       "      <td>0</td>\n",
       "      <td>0</td>\n",
       "      <td>0</td>\n",
       "      <td>0</td>\n",
       "      <td>Fungal infection</td>\n",
       "    </tr>\n",
       "    <tr>\n",
       "      <th>2</th>\n",
       "      <td>1</td>\n",
       "      <td>0</td>\n",
       "      <td>1</td>\n",
       "      <td>0</td>\n",
       "      <td>0</td>\n",
       "      <td>0</td>\n",
       "      <td>0</td>\n",
       "      <td>0</td>\n",
       "      <td>0</td>\n",
       "      <td>0</td>\n",
       "      <td>...</td>\n",
       "      <td>0</td>\n",
       "      <td>0</td>\n",
       "      <td>0</td>\n",
       "      <td>0</td>\n",
       "      <td>0</td>\n",
       "      <td>0</td>\n",
       "      <td>0</td>\n",
       "      <td>0</td>\n",
       "      <td>0</td>\n",
       "      <td>Fungal infection</td>\n",
       "    </tr>\n",
       "    <tr>\n",
       "      <th>3</th>\n",
       "      <td>1</td>\n",
       "      <td>1</td>\n",
       "      <td>0</td>\n",
       "      <td>0</td>\n",
       "      <td>0</td>\n",
       "      <td>0</td>\n",
       "      <td>0</td>\n",
       "      <td>0</td>\n",
       "      <td>0</td>\n",
       "      <td>0</td>\n",
       "      <td>...</td>\n",
       "      <td>0</td>\n",
       "      <td>0</td>\n",
       "      <td>0</td>\n",
       "      <td>0</td>\n",
       "      <td>0</td>\n",
       "      <td>0</td>\n",
       "      <td>0</td>\n",
       "      <td>0</td>\n",
       "      <td>0</td>\n",
       "      <td>Fungal infection</td>\n",
       "    </tr>\n",
       "    <tr>\n",
       "      <th>4</th>\n",
       "      <td>1</td>\n",
       "      <td>1</td>\n",
       "      <td>1</td>\n",
       "      <td>0</td>\n",
       "      <td>0</td>\n",
       "      <td>0</td>\n",
       "      <td>0</td>\n",
       "      <td>0</td>\n",
       "      <td>0</td>\n",
       "      <td>0</td>\n",
       "      <td>...</td>\n",
       "      <td>0</td>\n",
       "      <td>0</td>\n",
       "      <td>0</td>\n",
       "      <td>0</td>\n",
       "      <td>0</td>\n",
       "      <td>0</td>\n",
       "      <td>0</td>\n",
       "      <td>0</td>\n",
       "      <td>0</td>\n",
       "      <td>Fungal infection</td>\n",
       "    </tr>\n",
       "  </tbody>\n",
       "</table>\n",
       "<p>5 rows × 133 columns</p>\n",
       "</div>"
      ],
      "text/plain": [
       "   itching  skin_rash  nodal_skin_eruptions  continuous_sneezing  shivering  \\\n",
       "0        1          1                     1                    0          0   \n",
       "1        0          1                     1                    0          0   \n",
       "2        1          0                     1                    0          0   \n",
       "3        1          1                     0                    0          0   \n",
       "4        1          1                     1                    0          0   \n",
       "\n",
       "   chills  joint_pain  stomach_pain  acidity  ulcers_on_tongue  ...  \\\n",
       "0       0           0             0        0                 0  ...   \n",
       "1       0           0             0        0                 0  ...   \n",
       "2       0           0             0        0                 0  ...   \n",
       "3       0           0             0        0                 0  ...   \n",
       "4       0           0             0        0                 0  ...   \n",
       "\n",
       "   blackheads  scurring  skin_peeling  silver_like_dusting  \\\n",
       "0           0         0             0                    0   \n",
       "1           0         0             0                    0   \n",
       "2           0         0             0                    0   \n",
       "3           0         0             0                    0   \n",
       "4           0         0             0                    0   \n",
       "\n",
       "   small_dents_in_nails  inflammatory_nails  blister  red_sore_around_nose  \\\n",
       "0                     0                   0        0                     0   \n",
       "1                     0                   0        0                     0   \n",
       "2                     0                   0        0                     0   \n",
       "3                     0                   0        0                     0   \n",
       "4                     0                   0        0                     0   \n",
       "\n",
       "   yellow_crust_ooze         prognosis  \n",
       "0                  0  Fungal infection  \n",
       "1                  0  Fungal infection  \n",
       "2                  0  Fungal infection  \n",
       "3                  0  Fungal infection  \n",
       "4                  0  Fungal infection  \n",
       "\n",
       "[5 rows x 133 columns]"
      ]
     },
     "execution_count": 5,
     "metadata": {},
     "output_type": "execute_result"
    }
   ],
   "source": [
    "df.head(5)"
   ]
  },
  {
   "cell_type": "code",
   "execution_count": 6,
   "id": "1842d310",
   "metadata": {},
   "outputs": [
    {
     "name": "stdout",
     "output_type": "stream",
     "text": [
      "<class 'pandas.core.frame.DataFrame'>\n",
      "RangeIndex: 4920 entries, 0 to 4919\n",
      "Columns: 133 entries, itching to prognosis\n",
      "dtypes: int64(132), object(1)\n",
      "memory usage: 5.0+ MB\n"
     ]
    }
   ],
   "source": [
    "df.info()"
   ]
  },
  {
   "cell_type": "code",
   "execution_count": 7,
   "id": "47719e3e",
   "metadata": {},
   "outputs": [
    {
     "data": {
      "text/plain": [
       "(4920, 133)"
      ]
     },
     "execution_count": 7,
     "metadata": {},
     "output_type": "execute_result"
    }
   ],
   "source": [
    "df.shape"
   ]
  },
  {
   "cell_type": "code",
   "execution_count": 8,
   "id": "94007c1e",
   "metadata": {},
   "outputs": [
    {
     "data": {
      "text/plain": [
       "array(['Fungal infection', 'Allergy', 'GERD', 'Chronic cholestasis',\n",
       "       'Drug Reaction', 'Peptic ulcer diseae', 'AIDS', 'Diabetes ',\n",
       "       'Gastroenteritis', 'Bronchial Asthma', 'Hypertension ', 'Migraine',\n",
       "       'Cervical spondylosis', 'Paralysis (brain hemorrhage)', 'Jaundice',\n",
       "       'Malaria', 'Chicken pox', 'Dengue', 'Typhoid', 'hepatitis A',\n",
       "       'Hepatitis B', 'Hepatitis C', 'Hepatitis D', 'Hepatitis E',\n",
       "       'Alcoholic hepatitis', 'Tuberculosis', 'Common Cold', 'Pneumonia',\n",
       "       'Dimorphic hemmorhoids(piles)', 'Heart attack', 'Varicose veins',\n",
       "       'Hypothyroidism', 'Hyperthyroidism', 'Hypoglycemia',\n",
       "       'Osteoarthristis', 'Arthritis',\n",
       "       '(vertigo) Paroymsal  Positional Vertigo', 'Acne',\n",
       "       'Urinary tract infection', 'Psoriasis', 'Impetigo'], dtype=object)"
      ]
     },
     "execution_count": 8,
     "metadata": {},
     "output_type": "execute_result"
    }
   ],
   "source": [
    "df.prognosis.unique()"
   ]
  },
  {
   "cell_type": "code",
   "execution_count": 9,
   "id": "e5464140",
   "metadata": {},
   "outputs": [
    {
     "data": {
      "text/plain": [
       "41"
      ]
     },
     "execution_count": 9,
     "metadata": {},
     "output_type": "execute_result"
    }
   ],
   "source": [
    "len(df.prognosis.unique())"
   ]
  },
  {
   "cell_type": "code",
   "execution_count": 10,
   "id": "9b111931",
   "metadata": {},
   "outputs": [
    {
     "data": {
      "text/plain": [
       "Index(['itching', 'skin_rash', 'nodal_skin_eruptions', 'continuous_sneezing',\n",
       "       'shivering', 'chills', 'joint_pain', 'stomach_pain', 'acidity',\n",
       "       'ulcers_on_tongue',\n",
       "       ...\n",
       "       'blackheads', 'scurring', 'skin_peeling', 'silver_like_dusting',\n",
       "       'small_dents_in_nails', 'inflammatory_nails', 'blister',\n",
       "       'red_sore_around_nose', 'yellow_crust_ooze', 'prognosis'],\n",
       "      dtype='object', length=133)"
      ]
     },
     "execution_count": 10,
     "metadata": {},
     "output_type": "execute_result"
    }
   ],
   "source": [
    "df.columns"
   ]
  },
  {
   "cell_type": "markdown",
   "id": "b4921230",
   "metadata": {},
   "source": [
    "# Train Test Split"
   ]
  },
  {
   "cell_type": "code",
   "execution_count": 11,
   "id": "c65ded87",
   "metadata": {},
   "outputs": [],
   "source": [
    "from sklearn.model_selection import train_test_split\n",
    "from sklearn.preprocessing import LabelEncoder"
   ]
  },
  {
   "cell_type": "code",
   "execution_count": 12,
   "id": "5cf1fa19",
   "metadata": {},
   "outputs": [],
   "source": [
    "X = df.drop('prognosis' , axis = 1)\n",
    "y = df['prognosis']"
   ]
  },
  {
   "cell_type": "code",
   "execution_count": 13,
   "id": "7fac8591",
   "metadata": {},
   "outputs": [],
   "source": [
    "le = LabelEncoder()\n",
    "le.fit(y)\n",
    "Y = le.transform(y)"
   ]
  },
  {
   "cell_type": "code",
   "execution_count": 14,
   "id": "25fe8302",
   "metadata": {},
   "outputs": [],
   "source": [
    "X_train, X_test, y_train, y_test = train_test_split(X,Y,test_size = 0.3 , random_state = 20)"
   ]
  },
  {
   "cell_type": "code",
   "execution_count": 15,
   "id": "1adcb055",
   "metadata": {},
   "outputs": [
    {
     "data": {
      "text/plain": [
       "((3444, 132), (3444,), (1476, 132), (1476,))"
      ]
     },
     "execution_count": 15,
     "metadata": {},
     "output_type": "execute_result"
    }
   ],
   "source": [
    "X_train.shape , y_train.shape  , X_test.shape , y_test.shape"
   ]
  },
  {
   "cell_type": "markdown",
   "id": "8fd02c08",
   "metadata": {},
   "source": [
    "# Training Top Models"
   ]
  },
  {
   "cell_type": "code",
   "execution_count": 16,
   "id": "13d20747",
   "metadata": {},
   "outputs": [],
   "source": [
    "from sklearn.datasets import make_classification\n",
    "from sklearn.svm import SVC\n",
    "from sklearn.ensemble import RandomForestClassifier , GradientBoostingClassifier \n",
    "from sklearn.neighbors import KNeighborsClassifier\n",
    "from sklearn.naive_bayes import MultinomialNB\n",
    "from sklearn.metrics import accuracy_score , confusion_matrix\n",
    "import numpy as np "
   ]
  },
  {
   "cell_type": "code",
   "execution_count": 17,
   "id": "bdc0ed3c",
   "metadata": {},
   "outputs": [
    {
     "name": "stdout",
     "output_type": "stream",
     "text": [
      "Svc accuracy: 1.0\n",
      "Svc confusion matrix: \n",
      "[[40 ,  0 ,  0 , ... ,  0 ,  0 ,  0] ,\n",
      " [ 0 , 43 ,  0 , ... ,  0 ,  0 ,  0] ,\n",
      " [ 0 ,  0 , 28 , ... ,  0 ,  0 ,  0] ,\n",
      " ... ,\n",
      " [ 0 ,  0 ,  0 , ... , 34 ,  0 ,  0] ,\n",
      " [ 0 ,  0 ,  0 , ... ,  0 , 41 ,  0] ,\n",
      " [ 0 ,  0 ,  0 , ... ,  0 ,  0 , 31]]\n",
      "                                      \n",
      "RandomForest accuracy: 1.0\n",
      "RandomForest confusion matrix: \n",
      "[[40 ,  0 ,  0 , ... ,  0 ,  0 ,  0] ,\n",
      " [ 0 , 43 ,  0 , ... ,  0 ,  0 ,  0] ,\n",
      " [ 0 ,  0 , 28 , ... ,  0 ,  0 ,  0] ,\n",
      " ... ,\n",
      " [ 0 ,  0 ,  0 , ... , 34 ,  0 ,  0] ,\n",
      " [ 0 ,  0 ,  0 , ... ,  0 , 41 ,  0] ,\n",
      " [ 0 ,  0 ,  0 , ... ,  0 ,  0 , 31]]\n",
      "                                      \n",
      "GradienBoosting accuracy: 1.0\n",
      "GradienBoosting confusion matrix: \n",
      "[[40 ,  0 ,  0 , ... ,  0 ,  0 ,  0] ,\n",
      " [ 0 , 43 ,  0 , ... ,  0 ,  0 ,  0] ,\n",
      " [ 0 ,  0 , 28 , ... ,  0 ,  0 ,  0] ,\n",
      " ... ,\n",
      " [ 0 ,  0 ,  0 , ... , 34 ,  0 ,  0] ,\n",
      " [ 0 ,  0 ,  0 , ... ,  0 , 41 ,  0] ,\n",
      " [ 0 ,  0 ,  0 , ... ,  0 ,  0 , 31]]\n",
      "                                      \n",
      "KNeighbors accuracy: 1.0\n",
      "KNeighbors confusion matrix: \n",
      "[[40 ,  0 ,  0 , ... ,  0 ,  0 ,  0] ,\n",
      " [ 0 , 43 ,  0 , ... ,  0 ,  0 ,  0] ,\n",
      " [ 0 ,  0 , 28 , ... ,  0 ,  0 ,  0] ,\n",
      " ... ,\n",
      " [ 0 ,  0 ,  0 , ... , 34 ,  0 ,  0] ,\n",
      " [ 0 ,  0 ,  0 , ... ,  0 , 41 ,  0] ,\n",
      " [ 0 ,  0 ,  0 , ... ,  0 ,  0 , 31]]\n",
      "                                      \n",
      "multinomial accuracy: 1.0\n",
      "multinomial confusion matrix: \n",
      "[[40 ,  0 ,  0 , ... ,  0 ,  0 ,  0] ,\n",
      " [ 0 , 43 ,  0 , ... ,  0 ,  0 ,  0] ,\n",
      " [ 0 ,  0 , 28 , ... ,  0 ,  0 ,  0] ,\n",
      " ... ,\n",
      " [ 0 ,  0 ,  0 , ... , 34 ,  0 ,  0] ,\n",
      " [ 0 ,  0 ,  0 , ... ,  0 , 41 ,  0] ,\n",
      " [ 0 ,  0 ,  0 , ... ,  0 ,  0 , 31]]\n",
      "                                      \n"
     ]
    }
   ],
   "source": [
    "# create dictionary to store models\n",
    "models = {\n",
    "    \n",
    "    'Svc' : SVC(kernel = \"linear\") ,\n",
    "    'RandomForest' : RandomForestClassifier(n_estimators=100 , random_state=42) , \n",
    "    'GradienBoosting' : GradientBoostingClassifier(n_estimators=100 , random_state=42) , \n",
    "    'KNeighbors' : KNeighborsClassifier(n_neighbors = 5) , \n",
    "    'multinomial' : MultinomialNB()\n",
    "}\n",
    "\n",
    "\n",
    "\n",
    "\n",
    "for model_name , model in models.items():\n",
    "    # train model \n",
    "    model.fit(X_train ,y_train)\n",
    "    \n",
    "    # test model \n",
    "    predictions = model.predict(X_test)\n",
    "    \n",
    "    #calculate accuracy\n",
    "    accuracy = accuracy_score(y_test , predictions)\n",
    "    \n",
    "    #calculate confusion matrix \n",
    "    cm = confusion_matrix(y_test , predictions)\n",
    "    \n",
    "    print(f\"{model_name} accuracy: {accuracy}\")\n",
    "    print(f\"{model_name} confusion matrix: \")\n",
    "    print(np.array2string(cm , separator =\" , \"))\n",
    "    print(\"                                      \")\n",
    "    "
   ]
  },
  {
   "cell_type": "markdown",
   "id": "899dc3f7",
   "metadata": {},
   "source": [
    "# Single Prediction"
   ]
  },
  {
   "cell_type": "code",
   "execution_count": 18,
   "id": "01be2965",
   "metadata": {},
   "outputs": [
    {
     "data": {
      "text/plain": [
       "1.0"
      ]
     },
     "execution_count": 18,
     "metadata": {},
     "output_type": "execute_result"
    }
   ],
   "source": [
    "svc = SVC(kernel = \"linear\")\n",
    "svc.fit(X_train , y_train)\n",
    "ypred = svc.predict(X_test)\n",
    "accuracy_score(y_test , ypred)"
   ]
  },
  {
   "cell_type": "code",
   "execution_count": 19,
   "id": "ebf80044",
   "metadata": {},
   "outputs": [],
   "source": [
    "# saving model \n",
    "import pickle\n",
    "pickle.dump(svc , open(\"svc.pkl\" , 'wb'))"
   ]
  },
  {
   "cell_type": "code",
   "execution_count": 20,
   "id": "242b97df",
   "metadata": {},
   "outputs": [],
   "source": [
    "# load model \n",
    "svc = pickle.load(open(\"svc.pkl\" , 'rb'))"
   ]
  },
  {
   "cell_type": "code",
   "execution_count": 21,
   "id": "77dd56ab",
   "metadata": {},
   "outputs": [
    {
     "name": "stdout",
     "output_type": "stream",
     "text": [
      "predict Label:  [40]\n",
      "Actual Label:  40\n"
     ]
    }
   ],
   "source": [
    "# test 1\n",
    "print(\"predict Label: \", svc.predict(X_test.iloc[0].values.reshape(1,-1)))\n",
    "print(\"Actual Label: \", y_test[0])"
   ]
  },
  {
   "cell_type": "code",
   "execution_count": 22,
   "id": "5a278f58",
   "metadata": {},
   "outputs": [
    {
     "name": "stdout",
     "output_type": "stream",
     "text": [
      "predict Label:  [10]\n",
      "Actual Label:  10\n"
     ]
    }
   ],
   "source": [
    "# test 2 \n",
    "print(\"predict Label: \", svc.predict(X_test.iloc[20].values.reshape(1,-1)))\n",
    "print(\"Actual Label: \", y_test[20])"
   ]
  },
  {
   "cell_type": "markdown",
   "id": "3ef022e8",
   "metadata": {},
   "source": [
    "# Recommendation System & Prediction"
   ]
  },
  {
   "cell_type": "code",
   "execution_count": 106,
   "id": "4bf7dc47",
   "metadata": {},
   "outputs": [],
   "source": [
    "sym_des = pd.read_csv('datasets/symtoms_df.csv')\n",
    "precautions = pd.read_csv('datasets/precautions_df.csv')\n",
    "workout = pd.read_csv('datasets/workout_df.csv')\n",
    "description = pd.read_csv('datasets/description.csv')\n",
    "medications = pd.read_csv('datasets/medications.csv ')\n",
    "diets = pd.read_csv('datasets/Diets.csv')"
   ]
  },
  {
   "cell_type": "code",
   "execution_count": 108,
   "id": "9df68257",
   "metadata": {},
   "outputs": [],
   "source": [
    "def get_all_information(disease):\n",
    "    descrb = description[description['Disease'] == disease]['Description']\n",
    "    descrb = \" \".join([w for w in descrb])\n",
    "\n",
    "    pre = precautions[precautions['Disease'] == disease][['Precaution_1' , 'Precaution_2' , 'Precaution_3' , 'Precaution_4']]\n",
    "    pre = [col for col in pre.values]\n",
    "    \n",
    "    med = medications[medications['Disease'] == disease]['Medication']\n",
    "    med = [col for col in med.values]\n",
    "    \n",
    "    diet = diets[diets['Disease'] == disease]['Diet']\n",
    "    diet = [die for die in diet.values]\n",
    "    \n",
    "    wok = workout[workout['disease'] == disease]['workout']\n",
    "    wok = [col for col in wok.values]\n",
    "    return descrb , pre , med , diet , wok\n",
    "\n",
    "\n",
    "\n",
    "symptoms_dict = {'itching': 0, 'skin_rash': 1, 'nodal_skin_eruptions': 2, 'continuous_sneezing': 3, 'shivering': 4, 'chills': 5, 'joint_pain': 6, 'stomach_pain': 7, 'acidity': 8, 'ulcers_on_tongue': 9, 'muscle_wasting': 10, 'vomiting': 11, 'burning_micturition': 12, 'spotting_ urination': 13, 'fatigue': 14, 'weight_gain': 15, 'anxiety': 16, 'cold_hands_and_feets': 17, 'mood_swings': 18, 'weight_loss': 19, 'restlessness': 20, 'lethargy': 21, 'patches_in_throat': 22, 'irregular_sugar_level': 23, 'cough': 24, 'high_fever': 25, 'sunken_eyes': 26, 'breathlessness': 27, 'sweating': 28, 'dehydration': 29, 'indigestion': 30, 'headache': 31, 'yellowish_skin': 32, 'dark_urine': 33, 'nausea': 34, 'loss_of_appetite': 35, 'pain_behind_the_eyes': 36, 'back_pain': 37, 'constipation': 38, 'abdominal_pain': 39, 'diarrhoea': 40, 'mild_fever': 41, 'yellow_urine': 42, 'yellowing_of_eyes': 43, 'acute_liver_failure': 44, 'fluid_overload': 45, 'swelling_of_stomach': 46, 'swelled_lymph_nodes': 47, 'malaise': 48, 'blurred_and_distorted_vision': 49, 'phlegm': 50, 'throat_irritation': 51, 'redness_of_eyes': 52, 'sinus_pressure': 53, 'runny_nose': 54, 'congestion': 55, 'chest_pain': 56, 'weakness_in_limbs': 57, 'fast_heart_rate': 58, 'pain_during_bowel_movements': 59, 'pain_in_anal_region': 60, 'bloody_stool': 61, 'irritation_in_anus': 62, 'neck_pain': 63, 'dizziness': 64, 'cramps': 65, 'bruising': 66, 'obesity': 67, 'swollen_legs': 68, 'swollen_blood_vessels': 69, 'puffy_face_and_eyes': 70, 'enlarged_thyroid': 71, 'brittle_nails': 72, 'swollen_extremeties': 73, 'excessive_hunger': 74, 'extra_marital_contacts': 75, 'drying_and_tingling_lips': 76, 'slurred_speech': 77, 'knee_pain': 78, 'hip_joint_pain': 79, 'muscle_weakness': 80, 'stiff_neck': 81, 'swelling_joints': 82, 'movement_stiffness': 83, 'spinning_movements': 84, 'loss_of_balance': 85, 'unsteadiness': 86, 'weakness_of_one_body_side': 87, 'loss_of_smell': 88, 'bladder_discomfort': 89, 'foul_smell_of urine': 90, 'continuous_feel_of_urine': 91, 'passage_of_gases': 92, 'internal_itching': 93, 'toxic_look_(typhos)': 94, 'depression': 95, 'irritability': 96, 'muscle_pain': 97, 'altered_sensorium': 98, 'red_spots_over_body': 99, 'belly_pain': 100, 'abnormal_menstruation': 101, 'dischromic _patches': 102, 'watering_from_eyes': 103, 'increased_appetite': 104, 'polyuria': 105, 'family_history': 106, 'mucoid_sputum': 107, 'rusty_sputum': 108, 'lack_of_concentration': 109, 'visual_disturbances': 110, 'receiving_blood_transfusion': 111, 'receiving_unsterile_injections': 112, 'coma': 113, 'stomach_bleeding': 114, 'distention_of_abdomen': 115, 'history_of_alcohol_consumption': 116, 'fluid_overload.1': 117, 'blood_in_sputum': 118, 'prominent_veins_on_calf': 119, 'palpitations': 120, 'painful_walking': 121, 'pus_filled_pimples': 122, 'blackheads': 123, 'scurring': 124, 'skin_peeling': 125, 'silver_like_dusting': 126, 'small_dents_in_nails': 127, 'inflammatory_nails': 128, 'blister': 129, 'red_sore_around_nose': 130, 'yellow_crust_ooze': 131}\n",
    "diseases_list = {15: 'Fungal infection', 4: 'Allergy', 16: 'GERD', 9: 'Chronic cholestasis', 14: 'Drug Reaction', 33: 'Peptic ulcer diseae', 1: 'AIDS', 12: 'Diabetes ', 17: 'Gastroenteritis', 6: 'Bronchial Asthma', 23: 'Hypertension ', 30: 'Migraine', 7: 'Cervical spondylosis', 32: 'Paralysis (brain hemorrhage)', 28: 'Jaundice', 29: 'Malaria', 8: 'Chicken pox', 11: 'Dengue', 37: 'Typhoid', 40: 'hepatitis A', 19: 'Hepatitis B', 20: 'Hepatitis C', 21: 'Hepatitis D', 22: 'Hepatitis E', 3: 'Alcoholic hepatitis', 36: 'Tuberculosis', 10: 'Common Cold', 34: 'Pneumonia', 13: 'Dimorphic hemmorhoids(piles)', 18: 'Heart attack', 39: 'Varicose veins', 26: 'Hypothyroidism', 24: 'Hyperthyroidism', 25: 'Hypoglycemia', 31: 'Osteoarthristis', 5: 'Arthritis', 0: '(vertigo) Paroymsal  Positional Vertigo', 2: 'Acne', 38: 'Urinary tract infection', 35: 'Psoriasis', 27: 'Impetigo'}\n",
    "\n",
    "# Model Prediction function\n",
    "def get_predicted_value(patient_symptoms):\n",
    "    input_vector = np.zeros(len(symptoms_dict))\n",
    "    \n",
    "    for item in patient_symptoms:\n",
    "        input_vector[symptoms_dict[item]] = 1\n",
    "    return diseases_list[svc.predict([input_vector])[0]]"
   ]
  },
  {
   "cell_type": "code",
   "execution_count": 100,
   "id": "293ff516",
   "metadata": {},
   "outputs": [],
   "source": []
  },
  {
   "cell_type": "code",
   "execution_count": 109,
   "id": "0bc0f1d0",
   "metadata": {},
   "outputs": [
    {
     "name": "stdout",
     "output_type": "stream",
     "text": [
      "Enter your symptoms........itching \n"
     ]
    }
   ],
   "source": [
    "# test 1\n",
    "symptoms = input('Enter your symptoms........')\n",
    "user_symptoms = [s.strip() for s in symptoms.split(\",\")]\n",
    "user_symptoms = [sym.strip(\"[]' \") for sym in user_symptoms]\n",
    "predited_disease = get_predicted_value(user_symptoms)\n",
    "\n",
    "### get all information about the predicted disease \n",
    "description , precaution , medication , diet , wrkout = get_all_information(predited_disease)"
   ]
  },
  {
   "cell_type": "code",
   "execution_count": 111,
   "id": "7b7fc89a",
   "metadata": {},
   "outputs": [
    {
     "name": "stdout",
     "output_type": "stream",
     "text": [
      "*******************  Predicted Disease ***************************\n",
      "Fungal infection\n",
      "                                                               \n",
      "******************   Description  **********************************\n",
      "Fungal infection is a common skin condition caused by fungi.\n",
      "                                                               \n",
      "******************   Precautions  **********************************\n",
      "1 :  bath twice\n",
      "2 :  use detol or neem in bathing water\n",
      "3 :  keep infected area dry\n",
      "4 :  use clean cloths\n",
      "                                                               \n",
      "******************   Medications  **********************************\n",
      "[\"['Antifungal Cream', 'Fluconazole', 'Terbinafine', 'Clotrimazole', 'Ketoconazole']\"]\n",
      "                                                               \n",
      "******************   Diets  **********************************\n",
      "[\"['Antifungal Diet', 'Probiotics', 'Garlic', 'Coconut oil', 'Turmeric']\"]\n",
      "                                                               \n",
      "******************   Workout  **********************************\n",
      "1 :  Avoid sugary foods\n",
      "2 :  Consume probiotics\n",
      "3 :  Increase intake of garlic\n",
      "4 :  Include yogurt in diet\n",
      "5 :  Limit processed foods\n",
      "6 :  Stay hydrated\n",
      "7 :  Consume green tea\n",
      "8 :  Eat foods rich in zinc\n",
      "9 :  Include turmeric in diet\n",
      "10 :  Eat fruits and vegetables\n"
     ]
    }
   ],
   "source": [
    "print(\"*******************  Predicted Disease ***************************\")\n",
    "print(predited_disease)\n",
    "print(\"                                                               \")\n",
    "\n",
    "print(\"******************   Description  **********************************\")\n",
    "print(description)\n",
    "print(\"                                                               \")\n",
    "\n",
    "print(\"******************   Precautions  **********************************\")\n",
    "i = 1 \n",
    "for p_i in precaution[0]:\n",
    "    print(i, \": \" , p_i)\n",
    "    i+=1\n",
    "\n",
    "print(\"                                                               \")\n",
    "\n",
    "\n",
    "print(\"******************   Medications  **********************************\")\n",
    "print(medication)\n",
    "print(\"                                                               \")\n",
    "\n",
    "print(\"******************   Diets  **********************************\")\n",
    "print(diet)\n",
    "print(\"                                                               \")\n",
    "\n",
    "print(\"******************   Workout  **********************************\")\n",
    "i = 1 \n",
    "for p_i in wrkout:\n",
    "    print(i, \": \" , p_i)\n",
    "    i+=1"
   ]
  },
  {
   "cell_type": "code",
   "execution_count": 112,
   "id": "33bc01b0",
   "metadata": {},
   "outputs": [
    {
     "name": "stdout",
     "output_type": "stream",
     "text": [
      "0.24.2\n"
     ]
    }
   ],
   "source": [
    "import sklearn\n",
    "print(sklearn.__version__)"
   ]
  }
 ],
 "metadata": {
  "kernelspec": {
   "display_name": "Python 3 (ipykernel)",
   "language": "python",
   "name": "python3"
  },
  "language_info": {
   "codemirror_mode": {
    "name": "ipython",
    "version": 3
   },
   "file_extension": ".py",
   "mimetype": "text/x-python",
   "name": "python",
   "nbconvert_exporter": "python",
   "pygments_lexer": "ipython3",
   "version": "3.9.7"
  }
 },
 "nbformat": 4,
 "nbformat_minor": 5
}
